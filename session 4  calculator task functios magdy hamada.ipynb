{
 "cells": [
  {
   "cell_type": "code",
   "execution_count": 25,
   "id": "fd5a0f02",
   "metadata": {},
   "outputs": [
    {
     "name": "stdout",
     "output_type": "stream",
     "text": [
      "(10, 'Adding num')\n",
      "(50, 'mul numbers')\n",
      "(30, 'operation is : sub. numbers')\n",
      "(50.0, 'operation was div. numbers')\n"
     ]
    }
   ],
   "source": [
    "# Custom Calculator Add \n",
    "def add(a,b,operation):\n",
    "    return a+b,operation\n",
    "print(add(3,7,'Adding num'))\n",
    "# Custom Calculator mult\n",
    "def mul_num(a,b,oper):\n",
    "    return a*b,oper\n",
    "print(mul_num(5,10,'mul numbers'))\n",
    "# Custom Calculator Sub\n",
    "def sub_num(a,b,subope):\n",
    "    return a-b,subope\n",
    "print(sub_num(50,20,'operation is : sub. numbers'))\n",
    "# Custom Calculator Div\n",
    "def div_num(a,b,divoper):\n",
    "    return a/b,divoper\n",
    "print(div_num(100,2,'operation was div. numbers'))"
   ]
  }
 ],
 "metadata": {
  "kernelspec": {
   "display_name": "Python 3",
   "language": "python",
   "name": "python3"
  },
  "language_info": {
   "codemirror_mode": {
    "name": "ipython",
    "version": 3
   },
   "file_extension": ".py",
   "mimetype": "text/x-python",
   "name": "python",
   "nbconvert_exporter": "python",
   "pygments_lexer": "ipython3",
   "version": "3.13.5"
  }
 },
 "nbformat": 4,
 "nbformat_minor": 5
}
